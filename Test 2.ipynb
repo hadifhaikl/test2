{
 "cells": [
  {
   "cell_type": "markdown",
   "id": "153b99e1",
   "metadata": {},
   "source": [
    "# Question 1"
   ]
  },
  {
   "cell_type": "code",
   "execution_count": 13,
   "id": "02d48546",
   "metadata": {},
   "outputs": [
    {
     "name": "stdout",
     "output_type": "stream",
     "text": [
      "3\n",
      "1\n",
      "3\n",
      "2\n",
      "3\n",
      "3\n"
     ]
    },
    {
     "data": {
      "image/png": "[encoded data removed]",
      "text/plain": [
       "<Figure size 640x480 with 1 Axes>"
      ]
     },
     "metadata": {},
     "output_type": "display_data"
    },
    {
     "name": "stdout",
     "output_type": "stream",
     "text": [
      "The value of dydt is :  2.195264985088\n"
     ]
    }
   ],
   "source": [
    "def dydt(y,t):\n",
    "    return (-2*y*t)\n",
    "\n",
    "def rungekutta(x0,y0,x,h):\n",
    "    n = int((x-x0)/h)\n",
    "    y=y0\n",
    "    \n",
    "    for i  in range(1, n+1):\n",
    "        k1 = h * dydt(y0, t)\n",
    "        k2 = h * dydt(-2 * x0 * h, t * h * k1)\n",
    "        k3 = h * dydt(-2 * x0 * h, t * h * k2)\n",
    "        k4 = h * dydt(-2 * x0 + h, t + k3)\n",
    "        \n",
    "        y = y + h * (1.0 / 6.0)*(k1 + 2 * k2 + 2 * k3 + k4)\n",
    "        \n",
    "        x0 = x0 + h\n",
    "        print(n)\n",
    "        print(i)\n",
    "        \n",
    "        \n",
    "        from matplotlib import pyplot as plt\n",
    "\n",
    "    plt.plot(x0,y0, color = 'blue')\n",
    "    plt.title(\"dy/dt = -2yt\")\n",
    "    plt.show()\n",
    "\n",
    "    return(y)\n",
    "\n",
    "\n",
    "\n",
    "\n",
    "x0 = 0\n",
    "y = 1\n",
    "x = 4\n",
    "h = 0.3\n",
    "print(\"The value of dydt is : \", rungekutta(y0,x,y,h))\n",
    "\n"
   ]
  },
  {
   "cell_type": "markdown",
   "id": "c55378a8",
   "metadata": {},
   "source": [
    "# Question 2"
   ]
  },
  {
   "cell_type": "code",
   "execution_count": 21,
   "id": "643f3831",
   "metadata": {},
   "outputs": [
    {
     "name": "stdout",
     "output_type": "stream",
     "text": [
      "[[2 4 6]\n",
      " [5 3 2]\n",
      " [7 8 9]]\n",
      "[[18]\n",
      " [13]\n",
      " [30]]\n",
      "[[ 4.5]\n",
      " [-7.5]\n",
      " [ 6.5]]\n"
     ]
    }
   ],
   "source": [
    "#insert necessary libraries\n",
    "import numpy as numpy\n",
    "import scipy as sc\n",
    "\n",
    "#Define matrix J\n",
    "J = numpy.array([[2, 4, 6], [5, 3, 2], [7, 8, 9]])\n",
    "print(J)\n",
    "\n",
    "#Define matrix K\n",
    "K = numpy.array([[18], [13], [30]])\n",
    "print(K)\n",
    "\n",
    "#Formula to solve for unknowns (x, y, z)\n",
    "L = numpy.linalg.solve(J,K)\n",
    "print(L)"
   ]
  },
  {
   "cell_type": "markdown",
   "id": "e62ebb51",
   "metadata": {},
   "source": [
    "# Question 3"
   ]
  },
  {
   "cell_type": "code",
   "execution_count": 55,
   "id": "22480bdf",
   "metadata": {},
   "outputs": [
    {
     "name": "stdout",
     "output_type": "stream",
     "text": [
      "Temperature:['temperature_2m'], Time:['hourly']\n",
      "Temperature:['temperature_2m'], Time:['hourly']\n",
      "Temperature:['temperature_2m'], Time:['hourly']\n",
      "Temperature:['temperature_2m'], Time:['hourly']\n",
      "Temperature:['temperature_2m'], Time:['hourly']\n",
      "Temperature:['temperature_2m'], Time:['hourly']\n",
      "Temperature:['temperature_2m'], Time:['hourly']\n",
      "Temperature:['temperature_2m'], Time:['hourly']\n",
      "Temperature:['temperature_2m'], Time:['hourly']\n"
     ]
    }
   ],
   "source": [
    "import requests\n",
    "api_url = \"https://api.open-meteo.com/v1/forecast?latitude=2.5&longitude=112.5&hourly=temperature_2m&timezone=Asia%2FSingapore&forecast_days=1\"\n",
    "response = requests.get(api_url)\n",
    "hourly_temperature_data = response.json()\n",
    "\n",
    "for temp in hourly_temperature_data:\n",
    "    print(f\"Temperature:{['temperature_2m']}, Time:{['hourly']}\")"
   ]
  },
  {
   "cell_type": "code",
   "execution_count": null,
   "id": "d4e8b2b5",
   "metadata": {},
   "outputs": [],
   "source": []
  },
  {
   "cell_type": "code",
   "execution_count": null,
   "id": "f44cbb4d",
   "metadata": {},
   "outputs": [],
   "source": []
  }
 ],
 "metadata": {
  "kernelspec": {
   "display_name": "Python 3 (ipykernel)",
   "language": "python",
   "name": "python3"
  },
  "language_info": {
   "codemirror_mode": {
    "name": "ipython",
    "version": 3
   },
   "file_extension": ".py",
   "mimetype": "text/x-python",
   "name": "python",
   "nbconvert_exporter": "python",
   "pygments_lexer": "ipython3",
   "version": "3.11.5"
  }
 },
 "nbformat": 4,
 "nbformat_minor": 5
}
